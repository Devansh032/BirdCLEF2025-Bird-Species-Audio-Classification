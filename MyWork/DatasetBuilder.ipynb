{
 "cells": [
  {
   "cell_type": "code",
   "execution_count": null,
   "id": "cc72fecf",
   "metadata": {},
   "outputs": [
    {
     "name": "stdout",
     "output_type": "stream",
     "text": [
      "done\n"
     ]
    }
   ],
   "source": [
    "import numpy as np\n",
    "import tensorflow as tf\n",
    "print(\"done\")"
   ]
  },
  {
   "cell_type": "code",
   "execution_count": null,
   "id": "8ae3eb0d-0218-4f09-8f0f-51c5a3a69bfd",
   "metadata": {},
   "outputs": [
    {
     "name": "stdout",
     "output_type": "stream",
     "text": [
      "1139490\n",
      "0\n",
      "1192948\n",
      "0\n",
      "1194042\n",
      "1\n",
      "126247\n",
      "6\n",
      "1346504\n",
      "1\n",
      "134933\n",
      "2\n",
      "135045\n",
      "1\n",
      "1462711\n",
      "0\n",
      "1462737\n",
      "0\n",
      "1564122\n",
      "0\n",
      "21038\n",
      "1\n",
      "21116\n",
      "2\n",
      "21211\n"
     ]
    }
   ],
   "source": [
    "from pydub import AudioSegment\n",
    "import os\n",
    "\n",
    "\n",
    "AudioSegment.converter = r\"C:\\ffmpeg\\ffmpeg-7.0.2-essentials_build\\bin\\ffmpeg.exe\"\n",
    "AudioSegment.ffprobe = r\"C:\\ffmpeg\\ffmpeg-7.0.2-essentials_build\\bin\\ffprobe.exe\"\n",
    "\n",
    "\n",
    "\n",
    "input_path = \"./train_audio\"\n",
    "output_path = \"./dataset_100\"\n",
    "slice_duration_ms = 7000  # 7 seconds\n",
    "\n",
    "os.makedirs(output_path, exist_ok=True)\n",
    "\n",
    "for label in os.listdir(input_path):\n",
    "    print(label)\n",
    "    label_path = os.path.join(input_path, label)\n",
    "    \n",
    "    if os.path.isdir(label_path):\n",
    "        out_label_path = os.path.join(output_path, label)\n",
    "        os.makedirs(out_label_path, exist_ok=True)\n",
    "\n",
    "        cnt = 0\n",
    "        for fname in os.listdir(label_path):\n",
    "            tempPath = os.path.join(label_path, fname)\n",
    "            fpath = os.path.normpath(tempPath)\n",
    "            if os.path.isfile(fpath):\n",
    "                try:\n",
    "                    audio = AudioSegment.from_file(fpath)\n",
    "                    if(len(audio) >= 3000 and len(audio) <= 30000):\n",
    "                        cnt+=1\n",
    "                        out_file = os.path.join(out_label_path,fname)\n",
    "                        audio.export(out_file,format=\"ogg\")                    \n",
    "                    \n",
    "                    \n",
    "                    # j = 0 \n",
    "                    # for i in range(0, len(audio), slice_duration_ms):\n",
    "                    #     chunk = audio[i:i + slice_duration_ms]\n",
    "                    #     out_file = os.path.join(out_label_path, f\"{os.path.splitext(fname)[0]}_chunk{j}.ogg\")\n",
    "                    #     chunk.export(out_file, format=\"ogg\")\n",
    "                    #     j+=1\n",
    "                except Exception as e:\n",
    "                    print(f\"Error processing {fpath}: {e}\")\n",
    "        print(cnt)\n",
    "print(\"done\")"
   ]
  },
  {
   "cell_type": "code",
   "execution_count": 13,
   "id": "55601a6b-858d-4c8b-9305-af40fcaff4c6",
   "metadata": {},
   "outputs": [
    {
     "name": "stdout",
     "output_type": "stream",
     "text": [
      "Total audio files: 10554\n",
      "Total species (labels): 100\n",
      "\n",
      "100\n"
     ]
    }
   ],
   "source": [
    "import os\n",
    "from collections import defaultdict\n",
    "import shutil\n",
    "\n",
    "dataset_path = \"./dataset_100\" \n",
    "\n",
    "species_counts = defaultdict(int)\n",
    "\n",
    "def sample_Dataset() :    \n",
    "    for species in os.listdir(dataset_path):\n",
    "        species_path = os.path.join(dataset_path, species)\n",
    "        if os.path.isdir(species_path):\n",
    "            files = [f for f in os.listdir(species_path) if f.endswith(\".ogg\") or f.endswith(\".wav\")]\n",
    "            species_counts[species] = len(files)\n",
    "    \n",
    "    total_files = sum(species_counts.values())\n",
    "    \n",
    "    print(f\"Total audio files: {total_files}\")\n",
    "    print(f\"Total species (labels): {len(species_counts)}\\n\")\n",
    "    \n",
    "    cnt = 0\n",
    "    reqd_species = []\n",
    "    for species, count in list(species_counts.items()):\n",
    "        if(count>40 and count<255) : \n",
    "            cnt+=1\n",
    "            reqd_species.append(species)\n",
    "    \n",
    "    \n",
    "    # for species in os.listdir(dataset_path):\n",
    "    #     species_path = os.path.join(dataset_path, species)\n",
    "    #     if(species not in reqd_species) :\n",
    "    #         shutil.rmtree(species_path) \n",
    "    \n",
    "    \n",
    "            \n",
    "    print(len(reqd_species))\n",
    "\n",
    "sample_Dataset()\n",
    "\n"
   ]
  },
  {
   "cell_type": "code",
   "execution_count": 7,
   "id": "31221d01-39e3-4e1f-bb2a-16dd843d24ee",
   "metadata": {},
   "outputs": [
    {
     "name": "stdout",
     "output_type": "stream",
     "text": [
      "55\n"
     ]
    }
   ],
   "source": [
    "import math\n",
    "def fib(n) : \n",
    "    return round(pow(1.618,n)/math.sqrt(5))\n",
    "\n",
    "print(fib(10)) "
   ]
  }
 ],
 "metadata": {
  "kernelspec": {
   "display_name": "Python 3",
   "language": "python",
   "name": "python3"
  },
  "language_info": {
   "codemirror_mode": {
    "name": "ipython",
    "version": 3
   },
   "file_extension": ".py",
   "mimetype": "text/x-python",
   "name": "python",
   "nbconvert_exporter": "python",
   "pygments_lexer": "ipython3",
   "version": "3.13.1"
  }
 },
 "nbformat": 4,
 "nbformat_minor": 5
}
